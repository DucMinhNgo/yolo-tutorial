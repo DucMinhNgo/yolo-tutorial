{
 "cells": [
  {
   "cell_type": "markdown",
   "metadata": {},
   "source": [
    "Link: https://www.youtube.com/watch?v=VF4lylcgNHU&list=PL_Nji0JOuXg2QMohGK7wfzgJ-MavzXRHW\n",
    "What is YOLO?\n",
    "- You only look one"
   ]
  }
 ],
 "metadata": {
  "language_info": {
   "name": "python"
  }
 },
 "nbformat": 4,
 "nbformat_minor": 2
}
